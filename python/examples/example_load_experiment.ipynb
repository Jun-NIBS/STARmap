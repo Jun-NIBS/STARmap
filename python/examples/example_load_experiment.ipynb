{
 "cells": [
  {
   "cell_type": "code",
   "execution_count": 1,
   "metadata": {},
   "outputs": [],
   "source": [
    "%matplotlib inline\n",
    "%load_ext autoreload\n",
    "%autoreload 2"
   ]
  },
  {
   "cell_type": "code",
   "execution_count": 3,
   "metadata": {},
   "outputs": [],
   "source": [
    "import sys\n",
    "import os\n",
    "sys.path.append(\"/path/to/STARmap/python/\")\n",
    "from analysis import *"
   ]
  },
  {
   "cell_type": "code",
   "execution_count": 8,
   "metadata": {},
   "outputs": [],
   "source": [
    "base_path = \"/path/to/data/combinatorially_encoded/visual_160/20170915_BD2_dark\"\n",
    "S = STARmapAnalysis()\n",
    "S.add_data(load_data(base_path), cluster_ident_path=os.path.join(base_path, \"class_labels.csv\") )"
   ]
  },
  {
   "cell_type": "code",
   "execution_count": 24,
   "metadata": {},
   "outputs": [
    {
     "data": {
      "text/plain": [
       "Gene\n",
       "Acss1          1.705882\n",
       "Adcyap1        1.470588\n",
       "Adgrl2         2.235294\n",
       "Aqp4           0.470588\n",
       "Arc            0.941176\n",
       "Arf5           4.647059\n",
       "Arhgap24       0.764706\n",
       "Arl4d          1.294118\n",
       "Arx           21.941176\n",
       "Batf3          1.764706\n",
       "Bcl6           5.764706\n",
       "Bdnf           0.000000\n",
       "Bgn            0.176471\n",
       "Btg2           1.529412\n",
       "Calb2         13.705882\n",
       "Car12          0.058824\n",
       "Car4           1.000000\n",
       "Cbln4          0.058824\n",
       "Cck            2.470588\n",
       "Cdh13          3.941176\n",
       "Cdk6           0.000000\n",
       "Chat           4.058824\n",
       "Chodl          0.470588\n",
       "Chrna6         0.588235\n",
       "Col6a1         0.823529\n",
       "Cplx3          2.941176\n",
       "Cpne5          0.941176\n",
       "Crh            5.529412\n",
       "Crispld2       6.470588\n",
       "Csrnp1         0.117647\n",
       "                ...    \n",
       "Serpine1       0.058824\n",
       "Sla            1.764706\n",
       "Slc17a7       17.470588\n",
       "Slc25a36       1.411765\n",
       "Slc5a7         0.823529\n",
       "Smad3          2.588235\n",
       "Sncg           0.058824\n",
       "Spp1           1.117647\n",
       "Sst            0.352941\n",
       "Stac           0.294118\n",
       "Sulf2          2.294118\n",
       "Synpr          7.529412\n",
       "Syt17          2.941176\n",
       "Syt6           1.588235\n",
       "Tacr1          0.058824\n",
       "Tacr3          0.058824\n",
       "Tacstd2        4.941176\n",
       "Tbr1           0.529412\n",
       "Tcerg1l        1.294118\n",
       "Th             0.294118\n",
       "Thsd7a         1.764706\n",
       "Tnfaip6       11.294118\n",
       "Tnfaip8l3      0.529412\n",
       "Tnmd           0.000000\n",
       "Tpbg           0.823529\n",
       "Tph2           0.764706\n",
       "Ucma           0.764706\n",
       "Vgf            3.294118\n",
       "Vip          188.470588\n",
       "Wt1            0.000000\n",
       "dtype: float64"
      ]
     },
     "execution_count": 24,
     "metadata": {},
     "output_type": "execute_result"
    }
   ],
   "source": [
    "S._raw_data.iloc[np.argwhere(S._meta['cluster_name'] == 'VIP').flatten(),:].mean()"
   ]
  }
 ],
 "metadata": {
  "kernelspec": {
   "display_name": "Python 3",
   "language": "python",
   "name": "python3"
  },
  "language_info": {
   "codemirror_mode": {
    "name": "ipython",
    "version": 3
   },
   "file_extension": ".py",
   "mimetype": "text/x-python",
   "name": "python",
   "nbconvert_exporter": "python",
   "pygments_lexer": "ipython3",
   "version": "3.6.3"
  }
 },
 "nbformat": 4,
 "nbformat_minor": 2
}
